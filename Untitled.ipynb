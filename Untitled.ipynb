{
 "cells": [
  {
   "cell_type": "code",
   "execution_count": 2,
   "id": "312f966e",
   "metadata": {},
   "outputs": [],
   "source": [
    "import numpy as np\n",
    "import pandas as pd\n",
    "import matplotlib.pyplot as plt\n"
   ]
  },
  {
   "cell_type": "code",
   "execution_count": 10,
   "id": "dba2e72a",
   "metadata": {},
   "outputs": [],
   "source": [
    "docs = ['There is a boy.', 'The boy is very pretty.']"
   ]
  },
  {
   "cell_type": "code",
   "execution_count": 11,
   "id": "824bbab1",
   "metadata": {},
   "outputs": [
    {
     "data": {
      "text/plain": [
       "[['there', 'is', 'a', 'boy'], ['the', 'boy', 'is', 'very', 'pretty']]"
      ]
     },
     "execution_count": 11,
     "metadata": {},
     "output_type": "execute_result"
    }
   ],
   "source": [
    "data = []\n",
    "for s in docs:\n",
    "    s2 = s.replace('.','')\n",
    "    s2 = s2.lower()\n",
    "    data.append(s2.split())\n",
    "    \n",
    "data"
   ]
  },
  {
   "cell_type": "code",
   "execution_count": 12,
   "id": "81f92228",
   "metadata": {},
   "outputs": [
    {
     "data": {
      "text/plain": [
       "{'there': 0, 'is': 1, 'a': 2, 'boy': 3, 'the': 4, 'very': 5, 'pretty': 6}"
      ]
     },
     "execution_count": 12,
     "metadata": {},
     "output_type": "execute_result"
    }
   ],
   "source": [
    "bow = {}\n",
    "n = 0;\n",
    "for doc in data:\n",
    "    for word in doc:\n",
    "        if word not in bow:\n",
    "            bow[word] = n\n",
    "            n += 1\n",
    "bow"
   ]
  },
  {
   "cell_type": "code",
   "execution_count": 16,
   "id": "6e7e2619",
   "metadata": {},
   "outputs": [
    {
     "data": {
      "text/plain": [
       "{0: 'there', 1: 'is', 2: 'a', 3: 'boy', 4: 'the', 5: 'very', 6: 'pretty'}"
      ]
     },
     "execution_count": 16,
     "metadata": {},
     "output_type": "execute_result"
    }
   ],
   "source": [
    "bow2 = {}\n",
    "for k, v in bow.items():\n",
    "    bow2[v] = k\n",
    "\n",
    "bow2"
   ]
  },
  {
   "cell_type": "code",
   "execution_count": 19,
   "id": "ece95252",
   "metadata": {},
   "outputs": [
    {
     "data": {
      "text/plain": [
       "[[0, 1, 2, 3], [4, 3, 1, 5, 6]]"
      ]
     },
     "execution_count": 19,
     "metadata": {},
     "output_type": "execute_result"
    }
   ],
   "source": [
    "X = []\n",
    "\n",
    "for doc in data:\n",
    "    l = []\n",
    "    for word in doc:\n",
    "        l.append(bow[word])\n",
    "    X.append(l)\n",
    "        \n",
    "X\n"
   ]
  },
  {
   "cell_type": "code",
   "execution_count": 20,
   "id": "14566522",
   "metadata": {},
   "outputs": [
    {
     "data": {
      "text/plain": [
       "[array([[1., 0., 0., 0., 0., 0., 0.],\n",
       "        [0., 1., 0., 0., 0., 0., 0.],\n",
       "        [0., 0., 1., 0., 0., 0., 0.],\n",
       "        [0., 0., 0., 1., 0., 0., 0.]]),\n",
       " array([[0., 0., 0., 0., 1., 0., 0.],\n",
       "        [0., 0., 0., 1., 0., 0., 0.],\n",
       "        [0., 1., 0., 0., 0., 0., 0.],\n",
       "        [0., 0., 0., 0., 0., 1., 0.],\n",
       "        [0., 0., 0., 0., 0., 0., 1.]])]"
      ]
     },
     "execution_count": 20,
     "metadata": {},
     "output_type": "execute_result"
    }
   ],
   "source": [
    "X2 = []\n",
    "\n",
    "for x in X:\n",
    "    a = np.eye(7)[x]\n",
    "    X2.append(a)\n",
    "X2"
   ]
  },
  {
   "cell_type": "code",
   "execution_count": null,
   "id": "a23d4241",
   "metadata": {},
   "outputs": [],
   "source": []
  },
  {
   "cell_type": "code",
   "execution_count": null,
   "id": "c783252c",
   "metadata": {},
   "outputs": [],
   "source": []
  },
  {
   "cell_type": "code",
   "execution_count": null,
   "id": "c65d17a4",
   "metadata": {},
   "outputs": [],
   "source": []
  }
 ],
 "metadata": {
  "kernelspec": {
   "display_name": "Python 3 (ipykernel)",
   "language": "python",
   "name": "python3"
  },
  "language_info": {
   "codemirror_mode": {
    "name": "ipython",
    "version": 3
   },
   "file_extension": ".py",
   "mimetype": "text/x-python",
   "name": "python",
   "nbconvert_exporter": "python",
   "pygments_lexer": "ipython3",
   "version": "3.9.12"
  }
 },
 "nbformat": 4,
 "nbformat_minor": 5
}
